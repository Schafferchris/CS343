{
 "cells": [
  {
   "cell_type": "code",
   "execution_count": 7,
   "metadata": {},
   "outputs": [
    {
     "name": "stdout",
     "output_type": "stream",
     "text": [
      "Virtual Assistant: Hello how may help you? Type 'exit' to end the conversation.\n",
      "Virtual Assistant: Sorry, I didn't catch that. Try asking in a different way.\n",
      "Virtual Assistant: I'd be happy to help with work! Tell me more.\n",
      "Virtual Assistant: I don’t have feelings, but I imagine pizza is pretty interesting! Do you like pizza?\n",
      "Virtual Assistant: life works by following specific rules or principles. I can help explain more if you want!\n",
      "Virtual Assistant: life works by following specific rules or principles. I can help explain more if you want!\n",
      "Virtual Assistant: Goodbye!\n"
     ]
    }
   ],
   "source": [
    "import re\n",
    "import random\n",
    "\n",
    "class SimpleBot:\n",
    "    def __init__(self):\n",
    "        self.pattern_responses = [\n",
    "            (r\"hi|hello|hey there|good (morning|afternoon|evening)\", \"Hello! How can I assist you today?\"),\n",
    "            (r\"bye|goodbye|see you|catch you later\", \"Goodbye! Feel free to reach out if you need anything!\"),\n",
    "            (r\"how are you|how have you been|what's up\", \"I'm just a bot, but thanks for asking! How about you?\"),\n",
    "            (r\"(what is|what's) your name|who are you\", \"I’m SimpleBot, your virtual assistant. What can I help with?\"),\n",
    "            (r\"can you help me with (.*)\", \"I'd be happy to help with {0}! Tell me more.\"),  # Dynamic response for help requests\n",
    "            (r\"what can you do|what services do you provide\", \"I can assist with general questions, information lookup, and basic tasks. What do you need help with?\"),\n",
    "            (r\"what is the time|current time|do you know the time\", \"I don't have access to a clock, but your device should have the current time.\"),\n",
    "            (r\"(what is|what's) today('s)? date\", \"I'm not equipped to check the date, but your calendar can tell you.\"),\n",
    "            (r\"(what is|what's) the weather|is it (raining|sunny|cold)\", \"I can’t check the weather, but a weather app should have the latest info.\"),\n",
    "            (r\"tell me (a|another) joke\", \"Why don’t robots get mad? Because they have too many bytes to process!\"),\n",
    "            (r\"where are you from|where do you live\", \"I live in the digital world, always here when you need me!\"),\n",
    "            (r\"do you (like|love) (.*)\", \"I don’t have feelings, but I imagine {1} is pretty interesting! Do you like {1}?\"),  # Dynamic response for opinions\n",
    "            (r\"how does (.*) work\", \"{0} works by following specific rules or principles. I can help explain more if you want!\"),  # Dynamic response for 'how things work'\n",
    "            (r\"who (created|made) you\", \"I was created by a talented developer to assist you!\"),\n",
    "            (r\"thank you|thanks a lot|appreciate it\", \"You're welcome! Happy to help anytime.\"),\n",
    "        ]\n",
    "        # Define generic responses for unrecognized inputs\n",
    "        self.generic_responses = [\n",
    "            \"I'm not sure I understand. Can you clarify?\",\n",
    "            \"Could you rephrase that?\",\n",
    "            \"Sorry, I didn't catch that. Try asking in a different way.\",\n",
    "            \"Hmm, I'm not sure how to respond to that.\",\n",
    "            \"That's an interesting question! I'm not sure how to answer.\"\n",
    "        ]\n",
    "\n",
    "    def respond(self, message):\n",
    "        # Loop through pattern-response pairs and check if the message matches any pattern\n",
    "        for pattern, response in self.pattern_responses:\n",
    "            match = re.search(pattern, message, re.IGNORECASE)  # Case-insensitive matching\n",
    "            if match:\n",
    "                # If there are capturing groups, use them in the response\n",
    "                if match.groups():  \n",
    "                    return response.format(*match.groups())\n",
    "                else:\n",
    "                    return response\n",
    "        # If no pattern matches, return a random generic response\n",
    "        return random.choice(self.generic_responses)\n",
    "\n",
    "\n",
    "# Main function to keep the conversation going until 'exit' is typed\n",
    "def chat_with_bot():\n",
    "    bot = SimpleBot()\n",
    "    print(\"Virtual Assistant: Hello how may help you? Type 'exit' to end the conversation.\")\n",
    "    \n",
    "    while True:\n",
    "        user_input = input(\"You: \")  # Take user input\n",
    "        \n",
    "        if user_input.lower() == \"exit\":  # Exit the loop if 'exit' is typed\n",
    "            print(\"Virtual Assistant: Goodbye!\")\n",
    "            break\n",
    "        \n",
    "        # Print the bot's response\n",
    "        print(f\"Virtual Assistant: {bot.respond(user_input)}\")\n",
    "\n",
    "# Run the chatbot\n",
    "if __name__ == \"__main__\":\n",
    "    chat_with_bot()\n"
   ]
  }
 ],
 "metadata": {
  "kernelspec": {
   "display_name": "Python 3",
   "language": "python",
   "name": "python3"
  },
  "language_info": {
   "codemirror_mode": {
    "name": "ipython",
    "version": 3
   },
   "file_extension": ".py",
   "mimetype": "text/x-python",
   "name": "python",
   "nbconvert_exporter": "python",
   "pygments_lexer": "ipython3",
   "version": "3.9.7"
  }
 },
 "nbformat": 4,
 "nbformat_minor": 2
}
